{
  "cells": [
    {
      "cell_type": "markdown",
      "metadata": {
        "id": "view-in-github",
        "colab_type": "text"
      },
      "source": [
        "<a href=\"https://colab.research.google.com/github/ruantos/ETL-Detran/blob/scraping/etl_detran.ipynb\" target=\"_parent\"><img src=\"https://colab.research.google.com/assets/colab-badge.svg\" alt=\"Open In Colab\"/></a>"
      ]
    },
    {
      "cell_type": "code",
      "execution_count": 41,
      "metadata": {
        "id": "4qWfh7iJpwyN"
      },
      "outputs": [],
      "source": [
        "import requests\n",
        "import pandas as pd\n",
        "import os"
      ]
    },
    {
      "cell_type": "code",
      "source": [
        "links= {\n",
        "    \"2023\": \"http://dados.recife.pe.gov.br/dataset/6399f689-f1a7-453b-b839-413bd665c355/resource/c269789d-da47-4dde-8ce7-42fba10fe8e2/download/infracoes-01a12-2023.csv\",\n",
        "    \"2024\": \"http://dados.recife.pe.gov.br/dataset/6399f689-f1a7-453b-b839-413bd665c355/resource/4adf9430-35a5-4e88-8ecf-b45748b81c7d/download/infracoestransparencia-janeiro-a-dezembro-2024.csv\",\n",
        "    \"2025\": \"http://dados.recife.pe.gov.br/dataset/6399f689-f1a7-453b-b839-413bd665c355/resource/48bd8822-df18-48d0-bbc1-2de87ca0d70b/download/infracoestransparencia-janeiro-a-maio-2025.csv\",\n",
        "    }\n",
        "\n",
        "path_raw = \"./data/raw\"\n",
        "path_validated = \"./data/validated\""
      ],
      "metadata": {
        "id": "5BSitaOP018u"
      },
      "execution_count": 45,
      "outputs": []
    },
    {
      "cell_type": "markdown",
      "source": [
        "## Creating directories"
      ],
      "metadata": {
        "id": "PU2Q5lT45-lv"
      }
    },
    {
      "cell_type": "code",
      "source": [
        "try:\n",
        "    os.makedirs(\"data\", exist_ok=True)\n",
        "    os.makedirs(path_raw, exist_ok=True)\n",
        "    os.makedirs(path_validated, exist_ok=True)\n",
        "    pass\n",
        "except:\n",
        "    pass"
      ],
      "metadata": {
        "id": "t_myqUnc5-Te"
      },
      "execution_count": 46,
      "outputs": []
    },
    {
      "cell_type": "markdown",
      "source": [
        "## Download csv"
      ],
      "metadata": {
        "id": "WhZNZgLp4c8J"
      }
    },
    {
      "cell_type": "code",
      "execution_count": 47,
      "metadata": {
        "id": "ooF_DyLZrR2K",
        "colab": {
          "base_uri": "https://localhost:8080/"
        },
        "outputId": "5c43c6fe-b782-469b-9041-4d40cdcdc64e"
      },
      "outputs": [
        {
          "output_type": "stream",
          "name": "stdout",
          "text": [
            "CSV baixado com sucesso!\n",
            "CSV baixado com sucesso!\n",
            "CSV baixado com sucesso!\n"
          ]
        }
      ],
      "source": [
        "for year, url in links.items():\n",
        "\n",
        "    try:\n",
        "        response = requests.get(url)\n",
        "        response.raise_for_status()\n",
        "\n",
        "        with open(f\"{path_raw}/{year}.csv\", \"wb\") as file:\n",
        "            file.write(response.content)\n",
        "\n",
        "        print(\"CSV baixado com sucesso!\")\n",
        "\n",
        "    except requests.exceptions.RequestException as error:\n",
        "        print(f\"Houve um erro: {error}\")"
      ]
    },
    {
      "cell_type": "markdown",
      "source": [
        "## Convert to parquet"
      ],
      "metadata": {
        "id": "jfdbgu1a4fV5"
      }
    },
    {
      "cell_type": "code",
      "execution_count": 48,
      "metadata": {
        "id": "UIqvbT3krfaZ",
        "colab": {
          "base_uri": "https://localhost:8080/"
        },
        "outputId": "3f825168-38b4-40f7-ff47-a8b230d71001"
      },
      "outputs": [
        {
          "output_type": "stream",
          "name": "stderr",
          "text": [
            "/tmp/ipython-input-48-2501528663.py:2: DtypeWarning: Columns (3) have mixed types. Specify dtype option on import or set low_memory=False.\n",
            "  data_csv = pd.read_csv(f\"{path_raw}/{year}.csv\", sep=';')\n"
          ]
        }
      ],
      "source": [
        "for year in links.keys():\n",
        "    data_csv = pd.read_csv(f\"{path_raw}/{year}.csv\", sep=';')\n",
        "    data_csv.to_parquet(f\"{path_validated}/{year}.parquet\", index=False)"
      ]
    }
  ],
  "metadata": {
    "colab": {
      "provenance": [],
      "authorship_tag": "ABX9TyPR9ydU3tBBXhU4DVo1xOSu",
      "include_colab_link": true
    },
    "kernelspec": {
      "display_name": "Python 3",
      "name": "python3"
    },
    "language_info": {
      "name": "python"
    }
  },
  "nbformat": 4,
  "nbformat_minor": 0
}